{
 "cells": [
  {
   "cell_type": "code",
   "execution_count": 2,
   "id": "9d686b97",
   "metadata": {},
   "outputs": [
    {
     "name": "stdout",
     "output_type": "stream",
     "text": [
      "8\n"
     ]
    }
   ],
   "source": [
    "def find_avg(param1):\n",
    "  newvar = len(param1)\n",
    "  totalVar = 0\n",
    "  total = sum(param1)\n",
    "  return total // newvar\n",
    "\n",
    "tatyana_grades = [8,5,6,7,7,7,9,8]\n",
    "brian_grades = [10,10,10,9,10,10,10,9]\n",
    "nicole_grades = [9,8,9,8,8,9,7,9,8]\n",
    "\n",
    "find_avg(tatyana_grades) # should return 7\n",
    "find_avg(brian_grades) # should return 9\n",
    "print(find_avg(nicole_grades)) # should return 8"
   ]
  },
  {
   "cell_type": "code",
   "execution_count": null,
   "id": "5f183f45",
   "metadata": {},
   "outputs": [],
   "source": []
  }
 ],
 "metadata": {
  "kernelspec": {
   "display_name": "Python 3",
   "language": "python",
   "name": "python3"
  },
  "language_info": {
   "codemirror_mode": {
    "name": "ipython",
    "version": 3
   },
   "file_extension": ".py",
   "mimetype": "text/x-python",
   "name": "python",
   "nbconvert_exporter": "python",
   "pygments_lexer": "ipython3",
   "version": "3.8.8"
  }
 },
 "nbformat": 4,
 "nbformat_minor": 5
}
